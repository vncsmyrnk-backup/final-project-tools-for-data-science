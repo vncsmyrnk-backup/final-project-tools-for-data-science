{
 "cells": [
  {
   "cell_type": "markdown",
   "metadata": {},
   "source": [
    "<center>\n",
    "    <img src=\"https://cf-courses-data.s3.us.cloud-object-storage.appdomain.cloud/IBMDeveloperSkillsNetwork-DS0105EN-SkillsNetwork/labs/Module2/images/SN_web_lightmode.png\" width=\"300\" alt=\"cognitiveclass.ai logo\">\n",
    "</center>\n"
   ]
  },
  {
   "cell_type": "markdown",
   "metadata": {},
   "source": [
    "# Final project\n"
   ]
  },
  {
   "cell_type": "markdown",
   "metadata": {
    "tags": []
   },
   "source": [
    "## Introduction"
   ]
  },
  {
   "cell_type": "markdown",
   "metadata": {
    "tags": []
   },
   "source": [
    "#### Python notebooks have become an indispensable tool for data scientists, analysts, and programmers alike.  These interactive documents seamlessly combine code, visualizations, and text, fostering a dynamic environment for data exploration, analysis, and storytelling.  This final project delves into the world of Python notebooks, exploring their core functionalities, practical applications, and best practices in their utilization."
   ]
  },
  {
   "cell_type": "markdown",
   "metadata": {},
   "source": [
    "#### Data science languages\n",
    "\n",
    "- Python\n",
    "- R\n",
    "- SQL\n",
    "- Scala\n",
    "- Julia"
   ]
  },
  {
   "cell_type": "markdown",
   "metadata": {},
   "source": [
    "#### Data science libraries\n",
    "\n",
    "- NumPy (Python)\n",
    "- pandas (Python)\n",
    "- dplyr (R)\n",
    "- ggplot2 (R)\n",
    "- Spark (Scala, Python, Java, R)"
   ]
  },
  {
   "cell_type": "markdown",
   "metadata": {},
   "source": [
    "#### Data science tools\n",
    "\n",
    "| Category | Tool | Description | Language |\n",
    "|---|---|---|---|\n",
    "| **Programming Languages** | Python | General-purpose language with extensive data science libraries | Python |\n",
    "| | R | Language and environment for statistical computing and graphics | R |\n",
    "| | SQL | Domain-specific language for interacting with relational databases | SQL |\n",
    "| **Data Manipulation & Analysis** | NumPy (Python) | Efficient arrays, linear algebra, mathematical functions | Python |\n",
    "| | pandas (Python) | High-performance DataFrames and Series for data analysis | Python |\n",
    "| | dplyr (R) | Grammar-based library for data manipulation | R |\n",
    "| | Data.table (R) | High-performance data manipulation library | R |\n",
    "| **Machine Learning** | Scikit-learn (Python) | Classification, regression, clustering, model selection algorithms | Python |\n",
    "| | TensorFlow (Python) | Open-source platform for numerical computation and large-scale machine learning | Python |\n",
    "| | Keras (Python) | High-level API for building and training deep learning models | Python |\n",
    "| | statsmodels (Python) | Statistical functions, tools for data exploration, hypothesis testing, classical machine learning | Python |\n",
    "| | caret (R) | Simplifies training and evaluating machine learning models | R |\n",
    "| **Data Visualization** | Matplotlib (Python) | Versatile library for various static, animated, and interactive visualizations | Python |\n",
    "| | Seaborn (Python) | High-level interface for creating statistical graphics (built on Matplotlib) | Python |\n",
    "| | ggplot2 (R) | Grammar-based library for creating elegant data visualizations | R |\n",
    "| | plotly (Python & R) | Interactive visualizations for web applications and dashboards | Python, R |\n",
    "| **Data Import & Export** | pandas (Python) | Reads/writes data from CSV, Excel, databases | Python |\n",
    "| | dplyr (R) | Functions for reading and writing data from various sources | R |\n",
    "| | fread (R) | High-performance library for reading delimited text files | R |\n",
    "| **Scientific Computing** | SciPy (Python) | Algorithms and functions beyond NumPy's capabilities | Python |\n",
    "| | R | Language itself well-suited for scientific computing and statistical analysis | R |\n",
    "| **Web Scraping** | BeautifulSoup (Python) | Parses HTML and XML documents for web scraping | Python |\n",
    "| | Scrapy (Python) | High-level framework for crawling websites and extracting data | Python |\n",
    "| **Distributed Computing** | Spark (Scala, Python, Java, R) | Unified analytics engine for large-scale data processing | Scala, Python, Java, R |\n"
   ]
  },
  {
   "cell_type": "markdown",
   "metadata": {},
   "source": [
    "#### Arithmetic expression examples"
   ]
  },
  {
   "cell_type": "code",
   "execution_count": 1,
   "metadata": {
    "tags": []
   },
   "outputs": [
    {
     "name": "stdout",
     "output_type": "stream",
     "text": [
      "3\n",
      "20\n"
     ]
    }
   ],
   "source": [
    "print(1+2)\n",
    "print(5*4)"
   ]
  },
  {
   "cell_type": "code",
   "execution_count": 3,
   "metadata": {
    "tags": []
   },
   "outputs": [
    {
     "name": "stdout",
     "output_type": "stream",
     "text": [
      "2.0\n"
     ]
    }
   ],
   "source": [
    "minutes = 120\n",
    "hours = minutes / 60\n",
    "print(hours)"
   ]
  },
  {
   "cell_type": "markdown",
   "metadata": {},
   "source": [
    "### Objectives\n",
    "\n",
    "- Demystify the structure and components of Python notebooks\n",
    "- Unleash the power of code and data interaction\n",
    "- Optimize workflow and best practices"
   ]
  },
  {
   "cell_type": "markdown",
   "metadata": {},
   "source": [
    "Author's name: Vinicius Mayrink"
   ]
  }
 ],
 "metadata": {
  "kernelspec": {
   "display_name": "Python",
   "language": "python",
   "name": "conda-env-python-py"
  },
  "language_info": {
   "codemirror_mode": {
    "name": "ipython",
    "version": 3
   },
   "file_extension": ".py",
   "mimetype": "text/x-python",
   "name": "python",
   "nbconvert_exporter": "python",
   "pygments_lexer": "ipython3",
   "version": "3.7.12"
  }
 },
 "nbformat": 4,
 "nbformat_minor": 4
}
